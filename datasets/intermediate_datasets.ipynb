{
 "cells": [
  {
   "cell_type": "markdown",
   "metadata": {},
   "source": [
    "### Intermediate datasets \n",
    "\n",
    "| Original /Intermediate dataset | Name |\n",
    "| --- | ----------- | \n",
    "| D1 | emigrazione |\n",
    "| D2, D3 | indipendenza economica | \n",
    "| D17 | occupazione laureati | \n",
    "| D4, D6 | condizione lavorativa per età |\n",
    "| D7, D5 | retribuzione lavoro | "
   ]
  },
  {
   "cell_type": "markdown",
   "metadata": {},
   "source": [
    "### I1 : indipendenza economica"
   ]
  },
  {
   "cell_type": "code",
   "execution_count": null,
   "metadata": {},
   "outputs": [],
   "source": []
  }
 ],
 "metadata": {
  "language_info": {
   "name": "python"
  }
 },
 "nbformat": 4,
 "nbformat_minor": 2
}
