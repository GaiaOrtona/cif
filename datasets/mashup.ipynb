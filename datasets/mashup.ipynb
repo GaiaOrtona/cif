{
 "cells": [
  {
   "cell_type": "markdown",
   "metadata": {},
   "source": [
    "## Mash-up datasets. \n",
    "\n",
    "The goal of the mash-up datasets is to merge data that is spread among different original datasets. The final datasets that we aim to create are the following:\n",
    "\n",
    "| Original /Intermediate dataset | Description of the dataset | Name |\n",
    "| --- | ----------- | --- |\n",
    "|  | emigrazione | --- |\n",
    "| D2, D3 | indipendenza economica | --- |\n",
    "| --- | occupazione laureati | --- |\n",
    "| --- | condizione lavorativa per età | --- |\n",
    "| --- | retribuzione lavoro | --- |"
   ]
  },
  {
   "cell_type": "code",
   "execution_count": null,
   "metadata": {},
   "outputs": [],
   "source": []
  }
 ],
 "metadata": {
  "language_info": {
   "name": "python"
  }
 },
 "nbformat": 4,
 "nbformat_minor": 2
}
